{
  "cells": [
    {
      "cell_type": "markdown",
      "metadata": {
        "id": "view-in-github",
        "colab_type": "text"
      },
      "source": [
        "<a href=\"https://colab.research.google.com/github/jiyeon712/B.D.A/blob/main/%EB%B3%B5%EC%8A%B5_%ED%95%9C%EC%A7%80%EC%97%B087_0107.ipynb\" target=\"_parent\"><img src=\"https://colab.research.google.com/assets/colab-badge.svg\" alt=\"Open In Colab\"/></a>"
      ]
    },
    {
      "cell_type": "code",
      "execution_count": null,
      "id": "801055ee",
      "metadata": {
        "id": "801055ee",
        "outputId": "8f157f73-750e-4138-8d34-462d1ec8f2af"
      },
      "outputs": [
        {
          "data": {
            "text/plain": [
              "<matplotlib.collections.PathCollection at 0x7f926884f0d0>"
            ]
          },
          "execution_count": 1,
          "metadata": {},
          "output_type": "execute_result"
        },
        {
          "data": {
            "image/png": "[encoded data removed]",
            "text/plain": [
              "<Figure size 640x480 with 1 Axes>"
            ]
          },
          "metadata": {},
          "output_type": "display_data"
        }
      ],
      "source": [
        "import numpy as np\n",
        "import matplotlib.pyplot as plt\n",
        "%matplotlib inline\n",
        "\n",
        "n = 100\n",
        "\n",
        "x = 6 * np.random.rand(n, 1) - 3\n",
        "y = 0.5 * x**2 + x + 2 + np.random.rand(n, 1)\n",
        "\n",
        "plt.scatter(x, y, s=5)"
      ]
    },
    {
      "cell_type": "code",
      "execution_count": null,
      "id": "a4aec60f",
      "metadata": {
        "id": "a4aec60f"
      },
      "outputs": [],
      "source": [
        "from sklearn.preprocessing import PolynomialFeatures\n",
        "\n",
        "poly_features = PolynomialFeatures(degree=3, include_bias=False) # 기본 다항식형태를 만들고\n",
        "x_poly = poly_features.fit_transform(x)\n",
        "# 새롭게 정의된 numpy 배열은 행별로 각 데이터를 다항 형태로 변형해준다."
      ]
    },
    {
      "cell_type": "code",
      "execution_count": null,
      "id": "1dbdcebe",
      "metadata": {
        "id": "1dbdcebe",
        "outputId": "826b27e9-3cb8-4e1b-edff-8ff2bcca29a6"
      },
      "outputs": [
        {
          "data": {
            "text/plain": [
              "(array([0.38076508]), array([0.38076508, 0.14498204, 0.0552041 ]))"
            ]
          },
          "execution_count": 17,
          "metadata": {},
          "output_type": "execute_result"
        }
      ],
      "source": [
        "x[0], x_poly[0]"
      ]
    },
    {
      "cell_type": "code",
      "execution_count": null,
      "id": "8b80db4c",
      "metadata": {
        "id": "8b80db4c",
        "outputId": "7ebee2f8-adaa-4891-ad49-cb11a87ba764"
      },
      "outputs": [
        {
          "data": {
            "text/html": [
              "<style>#sk-container-id-3 {color: black;}#sk-container-id-3 pre{padding: 0;}#sk-container-id-3 div.sk-toggleable {background-color: white;}#sk-container-id-3 label.sk-toggleable__label {cursor: pointer;display: block;width: 100%;margin-bottom: 0;padding: 0.3em;box-sizing: border-box;text-align: center;}#sk-container-id-3 label.sk-toggleable__label-arrow:before {content: \"▸\";float: left;margin-right: 0.25em;color: #696969;}#sk-container-id-3 label.sk-toggleable__label-arrow:hover:before {color: black;}#sk-container-id-3 div.sk-estimator:hover label.sk-toggleable__label-arrow:before {color: black;}#sk-container-id-3 div.sk-toggleable__content {max-height: 0;max-width: 0;overflow: hidden;text-align: left;background-color: #f0f8ff;}#sk-container-id-3 div.sk-toggleable__content pre {margin: 0.2em;color: black;border-radius: 0.25em;background-color: #f0f8ff;}#sk-container-id-3 input.sk-toggleable__control:checked~div.sk-toggleable__content {max-height: 200px;max-width: 100%;overflow: auto;}#sk-container-id-3 input.sk-toggleable__control:checked~label.sk-toggleable__label-arrow:before {content: \"▾\";}#sk-container-id-3 div.sk-estimator input.sk-toggleable__control:checked~label.sk-toggleable__label {background-color: #d4ebff;}#sk-container-id-3 div.sk-label input.sk-toggleable__control:checked~label.sk-toggleable__label {background-color: #d4ebff;}#sk-container-id-3 input.sk-hidden--visually {border: 0;clip: rect(1px 1px 1px 1px);clip: rect(1px, 1px, 1px, 1px);height: 1px;margin: -1px;overflow: hidden;padding: 0;position: absolute;width: 1px;}#sk-container-id-3 div.sk-estimator {font-family: monospace;background-color: #f0f8ff;border: 1px dotted black;border-radius: 0.25em;box-sizing: border-box;margin-bottom: 0.5em;}#sk-container-id-3 div.sk-estimator:hover {background-color: #d4ebff;}#sk-container-id-3 div.sk-parallel-item::after {content: \"\";width: 100%;border-bottom: 1px solid gray;flex-grow: 1;}#sk-container-id-3 div.sk-label:hover label.sk-toggleable__label {background-color: #d4ebff;}#sk-container-id-3 div.sk-serial::before {content: \"\";position: absolute;border-left: 1px solid gray;box-sizing: border-box;top: 0;bottom: 0;left: 50%;z-index: 0;}#sk-container-id-3 div.sk-serial {display: flex;flex-direction: column;align-items: center;background-color: white;padding-right: 0.2em;padding-left: 0.2em;position: relative;}#sk-container-id-3 div.sk-item {position: relative;z-index: 1;}#sk-container-id-3 div.sk-parallel {display: flex;align-items: stretch;justify-content: center;background-color: white;position: relative;}#sk-container-id-3 div.sk-item::before, #sk-container-id-3 div.sk-parallel-item::before {content: \"\";position: absolute;border-left: 1px solid gray;box-sizing: border-box;top: 0;bottom: 0;left: 50%;z-index: -1;}#sk-container-id-3 div.sk-parallel-item {display: flex;flex-direction: column;z-index: 1;position: relative;background-color: white;}#sk-container-id-3 div.sk-parallel-item:first-child::after {align-self: flex-end;width: 50%;}#sk-container-id-3 div.sk-parallel-item:last-child::after {align-self: flex-start;width: 50%;}#sk-container-id-3 div.sk-parallel-item:only-child::after {width: 0;}#sk-container-id-3 div.sk-dashed-wrapped {border: 1px dashed gray;margin: 0 0.4em 0.5em 0.4em;box-sizing: border-box;padding-bottom: 0.4em;background-color: white;}#sk-container-id-3 div.sk-label label {font-family: monospace;font-weight: bold;display: inline-block;line-height: 1.2em;}#sk-container-id-3 div.sk-label-container {text-align: center;}#sk-container-id-3 div.sk-container {/* jupyter's `normalize.less` sets `[hidden] { display: none; }` but bootstrap.min.css set `[hidden] { display: none !important; }` so we also need the `!important` here to be able to override the default hidden behavior on the sphinx rendered scikit-learn.org. See: https://github.com/scikit-learn/scikit-learn/issues/21755 */display: inline-block !important;position: relative;}#sk-container-id-3 div.sk-text-repr-fallback {display: none;}</style><div id=\"sk-container-id-3\" class=\"sk-top-container\"><div class=\"sk-text-repr-fallback\"><pre>LinearRegression()</pre><b>In a Jupyter environment, please rerun this cell to show the HTML representation or trust the notebook. <br />On GitHub, the HTML representation is unable to render, please try loading this page with nbviewer.org.</b></div><div class=\"sk-container\" hidden><div class=\"sk-item\"><div class=\"sk-estimator sk-toggleable\"><input class=\"sk-toggleable__control sk-hidden--visually\" id=\"sk-estimator-id-3\" type=\"checkbox\" checked><label for=\"sk-estimator-id-3\" class=\"sk-toggleable__label sk-toggleable__label-arrow\">LinearRegression</label><div class=\"sk-toggleable__content\"><pre>LinearRegression()</pre></div></div></div></div></div>"
            ],
            "text/plain": [
              "LinearRegression()"
            ]
          },
          "execution_count": 18,
          "metadata": {},
          "output_type": "execute_result"
        }
      ],
      "source": [
        "from sklearn.linear_model import LinearRegression\n",
        "# model.coef_, model.intercept_\n",
        "model = LinearRegression()\n",
        "model.fit(x_poly, y) # 다항회귀 모델에 그렇게 변형한 데이터와 기존 y값을 넣고 학습시킨다."
      ]
    },
    {
      "cell_type": "code",
      "execution_count": null,
      "id": "3dfa9b95",
      "metadata": {
        "id": "3dfa9b95",
        "outputId": "12fc97c0-5823-4cd3-8c2c-7113e61dd62b"
      },
      "outputs": [
        {
          "name": "stdout",
          "output_type": "stream",
          "text": [
            "[[ 1.02867498  0.48644237 -0.00744552]]\n"
          ]
        }
      ],
      "source": [
        "# 데이터 변환 과정과 머신러닝을 연결해주는 파이프라인\n",
        "from sklearn.pipeline import make_pipeline\n",
        "\n",
        "model_lr = make_pipeline(PolynomialFeatures(degree=3, include_bias=False),\n",
        "                         LinearRegression())\n",
        "model_lr.fit(x, y)\n",
        "print(model_lr.steps[1][1].coef_)"
      ]
    },
    {
      "cell_type": "code",
      "execution_count": null,
      "id": "41bc46b0",
      "metadata": {
        "id": "41bc46b0",
        "outputId": "484967e0-feab-4fe0-8818-80b0b8dce7d7"
      },
      "outputs": [
        {
          "data": {
            "text/plain": [
              "<matplotlib.collections.PathCollection at 0x7f926a5203a0>"
            ]
          },
          "execution_count": 20,
          "metadata": {},
          "output_type": "execute_result"
        },
        {
          "data": {
            "image/png": "[encoded data removed]",
            "text/plain": [
              "<Figure size 640x480 with 1 Axes>"
            ]
          },
          "metadata": {},
          "output_type": "display_data"
        }
      ],
      "source": [
        "# 다항회귀 그래프\n",
        "xx = np.linspace(-3, 3, 100)\n",
        "y_pred = model_lr.predict(xx[:, np.newaxis])\n",
        "plt.plot(xx, y_pred)\n",
        "plt.scatter(x, y, s=5)"
      ]
    },
    {
      "cell_type": "code",
      "execution_count": null,
      "id": "2d6e4bd2",
      "metadata": {
        "id": "2d6e4bd2"
      },
      "outputs": [],
      "source": [
        "import numpy as np\n",
        "import pandas as pd\n",
        "from sklearn.preprocessing import PolynomialFeatures\n",
        "from sklearn.metrics import r2_score\n",
        "from sklearn.linear_model import LinearRegression\n",
        "import matplotlib.pyplot as plt"
      ]
    },
    {
      "cell_type": "code",
      "execution_count": null,
      "id": "1a4d57ab",
      "metadata": {
        "id": "1a4d57ab"
      },
      "outputs": [],
      "source": [
        "boston = pd.read_csv('boston_house.csv')"
      ]
    },
    {
      "cell_type": "code",
      "execution_count": null,
      "id": "2d182753",
      "metadata": {
        "id": "2d182753",
        "outputId": "780db468-5d37-4de3-f96b-e19ea4dc38b4"
      },
      "outputs": [
        {
          "data": {
            "text/html": [
              "<div>\n",
              "<style scoped>\n",
              "    .dataframe tbody tr th:only-of-type {\n",
              "        vertical-align: middle;\n",
              "    }\n",
              "\n",
              "    .dataframe tbody tr th {\n",
              "        vertical-align: top;\n",
              "    }\n",
              "\n",
              "    .dataframe thead th {\n",
              "        text-align: right;\n",
              "    }\n",
              "</style>\n",
              "<table border=\"1\" class=\"dataframe\">\n",
              "  <thead>\n",
              "    <tr style=\"text-align: right;\">\n",
              "      <th></th>\n",
              "      <th>AGE</th>\n",
              "      <th>B</th>\n",
              "      <th>RM</th>\n",
              "      <th>CRIM</th>\n",
              "      <th>DIS</th>\n",
              "      <th>INDUS</th>\n",
              "      <th>LSTAT</th>\n",
              "      <th>NOX</th>\n",
              "      <th>PTRATIO</th>\n",
              "      <th>RAD</th>\n",
              "      <th>ZN</th>\n",
              "      <th>TAX</th>\n",
              "      <th>CHAS</th>\n",
              "      <th>Target</th>\n",
              "    </tr>\n",
              "  </thead>\n",
              "  <tbody>\n",
              "    <tr>\n",
              "      <th>0</th>\n",
              "      <td>65.2</td>\n",
              "      <td>396.90</td>\n",
              "      <td>6.575</td>\n",
              "      <td>0.00632</td>\n",
              "      <td>4.0900</td>\n",
              "      <td>2.31</td>\n",
              "      <td>4.98</td>\n",
              "      <td>0.538</td>\n",
              "      <td>15.3</td>\n",
              "      <td>1</td>\n",
              "      <td>18.0</td>\n",
              "      <td>296</td>\n",
              "      <td>0</td>\n",
              "      <td>24.0</td>\n",
              "    </tr>\n",
              "    <tr>\n",
              "      <th>1</th>\n",
              "      <td>78.9</td>\n",
              "      <td>396.90</td>\n",
              "      <td>6.421</td>\n",
              "      <td>0.02731</td>\n",
              "      <td>4.9671</td>\n",
              "      <td>7.07</td>\n",
              "      <td>9.14</td>\n",
              "      <td>0.469</td>\n",
              "      <td>17.8</td>\n",
              "      <td>2</td>\n",
              "      <td>0.0</td>\n",
              "      <td>242</td>\n",
              "      <td>0</td>\n",
              "      <td>21.6</td>\n",
              "    </tr>\n",
              "    <tr>\n",
              "      <th>2</th>\n",
              "      <td>61.1</td>\n",
              "      <td>392.83</td>\n",
              "      <td>7.185</td>\n",
              "      <td>0.02729</td>\n",
              "      <td>4.9671</td>\n",
              "      <td>7.07</td>\n",
              "      <td>4.03</td>\n",
              "      <td>0.469</td>\n",
              "      <td>17.8</td>\n",
              "      <td>2</td>\n",
              "      <td>0.0</td>\n",
              "      <td>242</td>\n",
              "      <td>0</td>\n",
              "      <td>34.7</td>\n",
              "    </tr>\n",
              "    <tr>\n",
              "      <th>3</th>\n",
              "      <td>45.8</td>\n",
              "      <td>394.63</td>\n",
              "      <td>6.998</td>\n",
              "      <td>0.03237</td>\n",
              "      <td>6.0622</td>\n",
              "      <td>2.18</td>\n",
              "      <td>2.94</td>\n",
              "      <td>0.458</td>\n",
              "      <td>18.7</td>\n",
              "      <td>3</td>\n",
              "      <td>0.0</td>\n",
              "      <td>222</td>\n",
              "      <td>0</td>\n",
              "      <td>33.4</td>\n",
              "    </tr>\n",
              "    <tr>\n",
              "      <th>4</th>\n",
              "      <td>54.2</td>\n",
              "      <td>396.90</td>\n",
              "      <td>7.147</td>\n",
              "      <td>0.06905</td>\n",
              "      <td>6.0622</td>\n",
              "      <td>2.18</td>\n",
              "      <td>5.33</td>\n",
              "      <td>0.458</td>\n",
              "      <td>18.7</td>\n",
              "      <td>3</td>\n",
              "      <td>0.0</td>\n",
              "      <td>222</td>\n",
              "      <td>0</td>\n",
              "      <td>36.2</td>\n",
              "    </tr>\n",
              "    <tr>\n",
              "      <th>...</th>\n",
              "      <td>...</td>\n",
              "      <td>...</td>\n",
              "      <td>...</td>\n",
              "      <td>...</td>\n",
              "      <td>...</td>\n",
              "      <td>...</td>\n",
              "      <td>...</td>\n",
              "      <td>...</td>\n",
              "      <td>...</td>\n",
              "      <td>...</td>\n",
              "      <td>...</td>\n",
              "      <td>...</td>\n",
              "      <td>...</td>\n",
              "      <td>...</td>\n",
              "    </tr>\n",
              "    <tr>\n",
              "      <th>501</th>\n",
              "      <td>69.1</td>\n",
              "      <td>391.99</td>\n",
              "      <td>6.593</td>\n",
              "      <td>0.06263</td>\n",
              "      <td>2.4786</td>\n",
              "      <td>11.93</td>\n",
              "      <td>9.67</td>\n",
              "      <td>0.573</td>\n",
              "      <td>21.0</td>\n",
              "      <td>1</td>\n",
              "      <td>0.0</td>\n",
              "      <td>273</td>\n",
              "      <td>0</td>\n",
              "      <td>22.4</td>\n",
              "    </tr>\n",
              "    <tr>\n",
              "      <th>502</th>\n",
              "      <td>76.7</td>\n",
              "      <td>396.90</td>\n",
              "      <td>6.120</td>\n",
              "      <td>0.04527</td>\n",
              "      <td>2.2875</td>\n",
              "      <td>11.93</td>\n",
              "      <td>9.08</td>\n",
              "      <td>0.573</td>\n",
              "      <td>21.0</td>\n",
              "      <td>1</td>\n",
              "      <td>0.0</td>\n",
              "      <td>273</td>\n",
              "      <td>0</td>\n",
              "      <td>20.6</td>\n",
              "    </tr>\n",
              "    <tr>\n",
              "      <th>503</th>\n",
              "      <td>91.0</td>\n",
              "      <td>396.90</td>\n",
              "      <td>6.976</td>\n",
              "      <td>0.06076</td>\n",
              "      <td>2.1675</td>\n",
              "      <td>11.93</td>\n",
              "      <td>5.64</td>\n",
              "      <td>0.573</td>\n",
              "      <td>21.0</td>\n",
              "      <td>1</td>\n",
              "      <td>0.0</td>\n",
              "      <td>273</td>\n",
              "      <td>0</td>\n",
              "      <td>23.9</td>\n",
              "    </tr>\n",
              "    <tr>\n",
              "      <th>504</th>\n",
              "      <td>89.3</td>\n",
              "      <td>393.45</td>\n",
              "      <td>6.794</td>\n",
              "      <td>0.10959</td>\n",
              "      <td>2.3889</td>\n",
              "      <td>11.93</td>\n",
              "      <td>6.48</td>\n",
              "      <td>0.573</td>\n",
              "      <td>21.0</td>\n",
              "      <td>1</td>\n",
              "      <td>0.0</td>\n",
              "      <td>273</td>\n",
              "      <td>0</td>\n",
              "      <td>22.0</td>\n",
              "    </tr>\n",
              "    <tr>\n",
              "      <th>505</th>\n",
              "      <td>80.8</td>\n",
              "      <td>396.90</td>\n",
              "      <td>6.030</td>\n",
              "      <td>0.04741</td>\n",
              "      <td>2.5050</td>\n",
              "      <td>11.93</td>\n",
              "      <td>7.88</td>\n",
              "      <td>0.573</td>\n",
              "      <td>21.0</td>\n",
              "      <td>1</td>\n",
              "      <td>0.0</td>\n",
              "      <td>273</td>\n",
              "      <td>0</td>\n",
              "      <td>11.9</td>\n",
              "    </tr>\n",
              "  </tbody>\n",
              "</table>\n",
              "<p>506 rows × 14 columns</p>\n",
              "</div>"
            ],
            "text/plain": [
              "      AGE       B     RM     CRIM     DIS  INDUS  LSTAT    NOX  PTRATIO  RAD   \n",
              "0    65.2  396.90  6.575  0.00632  4.0900   2.31   4.98  0.538     15.3    1  \\\n",
              "1    78.9  396.90  6.421  0.02731  4.9671   7.07   9.14  0.469     17.8    2   \n",
              "2    61.1  392.83  7.185  0.02729  4.9671   7.07   4.03  0.469     17.8    2   \n",
              "3    45.8  394.63  6.998  0.03237  6.0622   2.18   2.94  0.458     18.7    3   \n",
              "4    54.2  396.90  7.147  0.06905  6.0622   2.18   5.33  0.458     18.7    3   \n",
              "..    ...     ...    ...      ...     ...    ...    ...    ...      ...  ...   \n",
              "501  69.1  391.99  6.593  0.06263  2.4786  11.93   9.67  0.573     21.0    1   \n",
              "502  76.7  396.90  6.120  0.04527  2.2875  11.93   9.08  0.573     21.0    1   \n",
              "503  91.0  396.90  6.976  0.06076  2.1675  11.93   5.64  0.573     21.0    1   \n",
              "504  89.3  393.45  6.794  0.10959  2.3889  11.93   6.48  0.573     21.0    1   \n",
              "505  80.8  396.90  6.030  0.04741  2.5050  11.93   7.88  0.573     21.0    1   \n",
              "\n",
              "       ZN  TAX  CHAS  Target  \n",
              "0    18.0  296     0    24.0  \n",
              "1     0.0  242     0    21.6  \n",
              "2     0.0  242     0    34.7  \n",
              "3     0.0  222     0    33.4  \n",
              "4     0.0  222     0    36.2  \n",
              "..    ...  ...   ...     ...  \n",
              "501   0.0  273     0    22.4  \n",
              "502   0.0  273     0    20.6  \n",
              "503   0.0  273     0    23.9  \n",
              "504   0.0  273     0    22.0  \n",
              "505   0.0  273     0    11.9  \n",
              "\n",
              "[506 rows x 14 columns]"
            ]
          },
          "execution_count": 25,
          "metadata": {},
          "output_type": "execute_result"
        }
      ],
      "source": [
        "boston"
      ]
    },
    {
      "cell_type": "markdown",
      "id": "01fb88a0",
      "metadata": {
        "id": "01fb88a0"
      },
      "source": [
        "## RM 변수만 사용하여 Target과 비교할 예정!"
      ]
    },
    {
      "cell_type": "code",
      "execution_count": null,
      "id": "39906526",
      "metadata": {
        "id": "39906526",
        "outputId": "84aed620-9443-4aa8-888f-a86d55875087"
      },
      "outputs": [
        {
          "data": {
            "image/png": "[encoded data removed]",
            "text/plain": [
              "<Figure size 640x480 with 1 Axes>"
            ]
          },
          "metadata": {},
          "output_type": "display_data"
        }
      ],
      "source": [
        "X = np.array(boston['RM'])\n",
        "y = np.array(boston['Target'])\n",
        "X = X.reshape(-1,1)\n",
        "y = y.reshape(-1,1)\n",
        "\n",
        "lr = LinearRegression()\n",
        "\n",
        "#다항회귀\n",
        "quadrastic = PolynomialFeatures(degree=2)\n",
        "cubic = PolynomialFeatures(degree=3)\n",
        "\n",
        "X_quad = quadrastic.fit_transform(X)\n",
        "X_cubic = cubic.fit_transform(X)\n",
        "\n",
        "##단순회귀식 계산\n",
        "X_fit = np.arange(X.min(), X.max(), 1 )[:, np.newaxis]\n",
        "lr.fit(X,y)\n",
        "y_lin_fit = lr.predict(X_fit)\n",
        "l_r2 = r2_score(y, lr.predict(X))\n",
        "\n",
        "#2차 다항회귀 모델\n",
        "lr.fit(X_quad,y)\n",
        "y_quad_fit = lr.predict(quadrastic.fit_transform(X_fit))\n",
        "q_r2 = r2_score(y, lr.predict(X_quad))\n",
        "\n",
        "#3차 다항회귀 모델\n",
        "lr.fit(X_cubic,y)\n",
        "y_cubic_fit = lr.predict(cubic.fit_transform(X_fit))\n",
        "c_r2 = r2_score(y, lr.predict(X_cubic))\n",
        "\n",
        "# 그래프 그리기\n",
        "plt.scatter(X,y, label= 'training data', c = 'lightgray')\n",
        "plt.plot(X_fit, y_lin_fit, linestyle = ':', label = 'linear fit(d=1), $R^2=%.2f$' %l_r2, c='blue',lw=3)\n",
        "plt.plot(X_fit, y_quad_fit, linestyle = '-', label = 'linear fit(d=2), $R^2=%.2f$' %q_r2, c='red',lw=3)\n",
        "plt.plot(X_fit, y_cubic_fit, linestyle = '--', label = 'linear fit(d=3), $R^2=%.2f$' %c_r2, c='yellow',lw=3)\n",
        "\n",
        "plt.ylabel('Target')\n",
        "plt.xlabel('RM')\n",
        "plt.legend(loc=1)\n",
        "plt.show()"
      ]
    },
    {
      "cell_type": "code",
      "execution_count": null,
      "id": "b8adc003",
      "metadata": {
        "id": "b8adc003",
        "outputId": "84844857-13ae-4923-e857-c0d1221f46a7"
      },
      "outputs": [
        {
          "name": "stdout",
          "output_type": "stream",
          "text": [
            "1차 단항식의 계수 피처  [[0 1]\n",
            " [2 3]]\n",
            "변환된 2차 다항식 계수 [[1. 0. 1. 0. 0. 1.]\n",
            " [1. 2. 3. 4. 6. 9.]]\n"
          ]
        }
      ],
      "source": [
        "X = np.arange(4).reshape(2,2)\n",
        "print('1차 단항식의 계수 피처 ',X)\n",
        "\n",
        "# 2차 3차로 바뀌는 방식이 무엇인지를 이해해 보면\n",
        "# 2차 다항식\n",
        "poly = PolynomialFeatures(degree=2)\n",
        "poly.fit(X)\n",
        "poly_ftr = poly.transform(X)\n",
        "print('변환된 2차 다항식 계수',poly_ftr)"
      ]
    },
    {
      "cell_type": "markdown",
      "id": "13c4a672",
      "metadata": {
        "id": "13c4a672"
      },
      "source": [
        "- 단항식 X1, X2\n",
        "- 2차 다항식으로 바꾸는 것은 기존의 단항식을 가지고 다항계수 변경하는 것\n",
        "- [ 1, X1, X2, X1X2 , X2X1 X2X2 ]"
      ]
    },
    {
      "cell_type": "markdown",
      "id": "fc4f40e1",
      "metadata": {
        "id": "fc4f40e1"
      },
      "source": [
        "## 규제를 통한 회귀 분석 예시 확인!"
      ]
    },
    {
      "cell_type": "code",
      "execution_count": null,
      "id": "c9566b17",
      "metadata": {
        "id": "c9566b17"
      },
      "outputs": [],
      "source": []
    }
  ],
  "metadata": {
    "kernelspec": {
      "display_name": "Python 3 (ipykernel)",
      "language": "python",
      "name": "python3"
    },
    "language_info": {
      "codemirror_mode": {
        "name": "ipython",
        "version": 3
      },
      "file_extension": ".py",
      "mimetype": "text/x-python",
      "name": "python",
      "nbconvert_exporter": "python",
      "pygments_lexer": "ipython3",
      "version": "3.8.16"
    },
    "colab": {
      "provenance": [],
      "include_colab_link": true
    }
  },
  "nbformat": 4,
  "nbformat_minor": 5
}